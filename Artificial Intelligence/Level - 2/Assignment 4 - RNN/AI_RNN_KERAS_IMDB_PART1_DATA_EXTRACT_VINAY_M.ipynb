{
 "cells": [
  {
   "cell_type": "code",
   "execution_count": 25,
   "id": "11265a69-a0d2-4e3f-9e84-11f58c4fc39b",
   "metadata": {
    "tags": []
   },
   "outputs": [],
   "source": [
    "import pandas as pd\n",
    "import numpy as np\n",
    "\n",
    "import warnings\n",
    "warnings.filterwarnings('ignore')\n",
    "\n",
    "import matplotlib.pyplot as plt\n",
    "%matplotlib inline\n",
    "\n",
    "from tensorflow.keras.datasets import imdb\n",
    "from tensorflow.keras.models import Sequential\n",
    "from tensorflow.keras.layers import Embedding, SimpleRNN, Dense\n",
    "from tensorflow.keras.preprocessing.sequence import pad_sequences"
   ]
  },
  {
   "cell_type": "code",
   "execution_count": 59,
   "id": "069bfae0-6569-4ff1-9ea9-2de14e08d518",
   "metadata": {
    "tags": []
   },
   "outputs": [],
   "source": [
    "# read tokenised data\n",
    "(X_train, y_train), (X_test, y_test) = imdb.load_data()"
   ]
  },
  {
   "cell_type": "code",
   "execution_count": 60,
   "id": "5a82df1c-bba5-4bd1-8a5c-b099c549f75c",
   "metadata": {
    "tags": []
   },
   "outputs": [],
   "source": [
    "# Get the word index mapping and reverse it\n",
    "word_index = imdb.get_word_index()\n",
    "reverse_word_index = dict([(value, key) for (key, value) in word_index.items()])"
   ]
  },
  {
   "cell_type": "code",
   "execution_count": 61,
   "id": "e3ad25ce-6b87-4b72-86a6-8c047020b2a8",
   "metadata": {
    "tags": []
   },
   "outputs": [],
   "source": [
    "#Decode the reviews back to text\n",
    "def decode_review(encoded_review):\n",
    "    return ' '.join([reverse_word_index.get(i - 3, '?') for i in encoded_review])"
   ]
  },
  {
   "cell_type": "code",
   "execution_count": 73,
   "id": "7ff24d74-7de5-4d4a-bd5d-ff1ac517f0fa",
   "metadata": {
    "tags": []
   },
   "outputs": [],
   "source": [
    "# Decode the training and test data\n",
    "X_train_text = [decode_review(review) for review in X_train]\n",
    "X_test_text = [decode_review(review) for review in X_test]"
   ]
  },
  {
   "cell_type": "code",
   "execution_count": null,
   "id": "0bb637ef-2b8f-4196-960a-b3e601fcf755",
   "metadata": {
    "tags": []
   },
   "outputs": [],
   "source": [
    "# Merging Data into single CSV\n"
   ]
  },
  {
   "cell_type": "code",
   "execution_count": 71,
   "id": "bfe83262-d163-48af-8cdd-2819d8b2fcd4",
   "metadata": {
    "tags": []
   },
   "outputs": [
    {
     "data": {
      "text/plain": [
       "list"
      ]
     },
     "execution_count": 71,
     "metadata": {},
     "output_type": "execute_result"
    }
   ],
   "source": [
    "type(X_train_text)"
   ]
  },
  {
   "cell_type": "code",
   "execution_count": 77,
   "id": "11475487-a6c4-4b43-ba0f-dab784e9ab75",
   "metadata": {
    "tags": []
   },
   "outputs": [
    {
     "data": {
      "text/html": [
       "<div>\n",
       "<style scoped>\n",
       "    .dataframe tbody tr th:only-of-type {\n",
       "        vertical-align: middle;\n",
       "    }\n",
       "\n",
       "    .dataframe tbody tr th {\n",
       "        vertical-align: top;\n",
       "    }\n",
       "\n",
       "    .dataframe thead th {\n",
       "        text-align: right;\n",
       "    }\n",
       "</style>\n",
       "<table border=\"1\" class=\"dataframe\">\n",
       "  <thead>\n",
       "    <tr style=\"text-align: right;\">\n",
       "      <th></th>\n",
       "      <th>reviews</th>\n",
       "    </tr>\n",
       "  </thead>\n",
       "  <tbody>\n",
       "    <tr>\n",
       "      <th>0</th>\n",
       "      <td>? this film was just brilliant casting locatio...</td>\n",
       "    </tr>\n",
       "    <tr>\n",
       "      <th>1</th>\n",
       "      <td>? big hair big boobs bad music and a giant saf...</td>\n",
       "    </tr>\n",
       "    <tr>\n",
       "      <th>2</th>\n",
       "      <td>? this has to be one of the worst films of the...</td>\n",
       "    </tr>\n",
       "    <tr>\n",
       "      <th>3</th>\n",
       "      <td>? the scots excel at storytelling the traditio...</td>\n",
       "    </tr>\n",
       "    <tr>\n",
       "      <th>4</th>\n",
       "      <td>? worst mistake of my life br br i picked this...</td>\n",
       "    </tr>\n",
       "    <tr>\n",
       "      <th>...</th>\n",
       "      <td>...</td>\n",
       "    </tr>\n",
       "    <tr>\n",
       "      <th>49995</th>\n",
       "      <td>? the book is better than the film mostly beca...</td>\n",
       "    </tr>\n",
       "    <tr>\n",
       "      <th>49996</th>\n",
       "      <td>? the largest crowd to ever see a wrestling ev...</td>\n",
       "    </tr>\n",
       "    <tr>\n",
       "      <th>49997</th>\n",
       "      <td>? i suppose that to say this is an all out ter...</td>\n",
       "    </tr>\n",
       "    <tr>\n",
       "      <th>49998</th>\n",
       "      <td>? in love 2 is the third movie it seemed that ...</td>\n",
       "    </tr>\n",
       "    <tr>\n",
       "      <th>49999</th>\n",
       "      <td>? a good ol' boy film is almost required to ha...</td>\n",
       "    </tr>\n",
       "  </tbody>\n",
       "</table>\n",
       "<p>50000 rows × 1 columns</p>\n",
       "</div>"
      ],
      "text/plain": [
       "                                                 reviews\n",
       "0      ? this film was just brilliant casting locatio...\n",
       "1      ? big hair big boobs bad music and a giant saf...\n",
       "2      ? this has to be one of the worst films of the...\n",
       "3      ? the scots excel at storytelling the traditio...\n",
       "4      ? worst mistake of my life br br i picked this...\n",
       "...                                                  ...\n",
       "49995  ? the book is better than the film mostly beca...\n",
       "49996  ? the largest crowd to ever see a wrestling ev...\n",
       "49997  ? i suppose that to say this is an all out ter...\n",
       "49998  ? in love 2 is the third movie it seemed that ...\n",
       "49999  ? a good ol' boy film is almost required to ha...\n",
       "\n",
       "[50000 rows x 1 columns]"
      ]
     },
     "metadata": {},
     "output_type": "display_data"
    }
   ],
   "source": [
    "# Create DataFrames from Decoded X\n",
    "df1 = pd.DataFrame({'reviews': X_train_text})\n",
    "df2 = pd.DataFrame({'reviews': X_test_text})\n",
    "result = pd.concat([df1, df2], axis=0, ignore_index=True)\n",
    "display(result)"
   ]
  },
  {
   "cell_type": "code",
   "execution_count": 78,
   "id": "26d5e783-2c01-4568-8427-414a2b7820b9",
   "metadata": {
    "tags": []
   },
   "outputs": [
    {
     "data": {
      "text/html": [
       "<div>\n",
       "<style scoped>\n",
       "    .dataframe tbody tr th:only-of-type {\n",
       "        vertical-align: middle;\n",
       "    }\n",
       "\n",
       "    .dataframe tbody tr th {\n",
       "        vertical-align: top;\n",
       "    }\n",
       "\n",
       "    .dataframe thead th {\n",
       "        text-align: right;\n",
       "    }\n",
       "</style>\n",
       "<table border=\"1\" class=\"dataframe\">\n",
       "  <thead>\n",
       "    <tr style=\"text-align: right;\">\n",
       "      <th></th>\n",
       "      <th>sentiment</th>\n",
       "    </tr>\n",
       "  </thead>\n",
       "  <tbody>\n",
       "    <tr>\n",
       "      <th>0</th>\n",
       "      <td>1</td>\n",
       "    </tr>\n",
       "    <tr>\n",
       "      <th>1</th>\n",
       "      <td>0</td>\n",
       "    </tr>\n",
       "    <tr>\n",
       "      <th>2</th>\n",
       "      <td>0</td>\n",
       "    </tr>\n",
       "    <tr>\n",
       "      <th>3</th>\n",
       "      <td>1</td>\n",
       "    </tr>\n",
       "    <tr>\n",
       "      <th>4</th>\n",
       "      <td>0</td>\n",
       "    </tr>\n",
       "    <tr>\n",
       "      <th>...</th>\n",
       "      <td>...</td>\n",
       "    </tr>\n",
       "    <tr>\n",
       "      <th>49995</th>\n",
       "      <td>1</td>\n",
       "    </tr>\n",
       "    <tr>\n",
       "      <th>49996</th>\n",
       "      <td>1</td>\n",
       "    </tr>\n",
       "    <tr>\n",
       "      <th>49997</th>\n",
       "      <td>0</td>\n",
       "    </tr>\n",
       "    <tr>\n",
       "      <th>49998</th>\n",
       "      <td>0</td>\n",
       "    </tr>\n",
       "    <tr>\n",
       "      <th>49999</th>\n",
       "      <td>0</td>\n",
       "    </tr>\n",
       "  </tbody>\n",
       "</table>\n",
       "<p>50000 rows × 1 columns</p>\n",
       "</div>"
      ],
      "text/plain": [
       "       sentiment\n",
       "0              1\n",
       "1              0\n",
       "2              0\n",
       "3              1\n",
       "4              0\n",
       "...          ...\n",
       "49995          1\n",
       "49996          1\n",
       "49997          0\n",
       "49998          0\n",
       "49999          0\n",
       "\n",
       "[50000 rows x 1 columns]"
      ]
     },
     "metadata": {},
     "output_type": "display_data"
    }
   ],
   "source": [
    "# Create DataFrames from Y\n",
    "df1_ = pd.DataFrame({'sentiment': y_train})\n",
    "df2_ = pd.DataFrame({'sentiment': y_test})\n",
    "result1 = pd.concat([df1_, df2_], axis=0, ignore_index=True)\n",
    "display(result1)"
   ]
  },
  {
   "cell_type": "code",
   "execution_count": 82,
   "id": "a1991532-5cb6-46cf-8430-2efe0305f4ca",
   "metadata": {
    "tags": []
   },
   "outputs": [
    {
     "data": {
      "text/html": [
       "<div>\n",
       "<style scoped>\n",
       "    .dataframe tbody tr th:only-of-type {\n",
       "        vertical-align: middle;\n",
       "    }\n",
       "\n",
       "    .dataframe tbody tr th {\n",
       "        vertical-align: top;\n",
       "    }\n",
       "\n",
       "    .dataframe thead th {\n",
       "        text-align: right;\n",
       "    }\n",
       "</style>\n",
       "<table border=\"1\" class=\"dataframe\">\n",
       "  <thead>\n",
       "    <tr style=\"text-align: right;\">\n",
       "      <th></th>\n",
       "      <th>0</th>\n",
       "      <th>1</th>\n",
       "    </tr>\n",
       "  </thead>\n",
       "  <tbody>\n",
       "    <tr>\n",
       "      <th>0</th>\n",
       "      <td>? this film was just brilliant casting locatio...</td>\n",
       "      <td>1</td>\n",
       "    </tr>\n",
       "    <tr>\n",
       "      <th>1</th>\n",
       "      <td>? big hair big boobs bad music and a giant saf...</td>\n",
       "      <td>0</td>\n",
       "    </tr>\n",
       "    <tr>\n",
       "      <th>2</th>\n",
       "      <td>? this has to be one of the worst films of the...</td>\n",
       "      <td>0</td>\n",
       "    </tr>\n",
       "    <tr>\n",
       "      <th>3</th>\n",
       "      <td>? the scots excel at storytelling the traditio...</td>\n",
       "      <td>1</td>\n",
       "    </tr>\n",
       "    <tr>\n",
       "      <th>4</th>\n",
       "      <td>? worst mistake of my life br br i picked this...</td>\n",
       "      <td>0</td>\n",
       "    </tr>\n",
       "    <tr>\n",
       "      <th>...</th>\n",
       "      <td>...</td>\n",
       "      <td>...</td>\n",
       "    </tr>\n",
       "    <tr>\n",
       "      <th>49995</th>\n",
       "      <td>? the book is better than the film mostly beca...</td>\n",
       "      <td>1</td>\n",
       "    </tr>\n",
       "    <tr>\n",
       "      <th>49996</th>\n",
       "      <td>? the largest crowd to ever see a wrestling ev...</td>\n",
       "      <td>1</td>\n",
       "    </tr>\n",
       "    <tr>\n",
       "      <th>49997</th>\n",
       "      <td>? i suppose that to say this is an all out ter...</td>\n",
       "      <td>0</td>\n",
       "    </tr>\n",
       "    <tr>\n",
       "      <th>49998</th>\n",
       "      <td>? in love 2 is the third movie it seemed that ...</td>\n",
       "      <td>0</td>\n",
       "    </tr>\n",
       "    <tr>\n",
       "      <th>49999</th>\n",
       "      <td>? a good ol' boy film is almost required to ha...</td>\n",
       "      <td>0</td>\n",
       "    </tr>\n",
       "  </tbody>\n",
       "</table>\n",
       "<p>50000 rows × 2 columns</p>\n",
       "</div>"
      ],
      "text/plain": [
       "                                                       0  1\n",
       "0      ? this film was just brilliant casting locatio...  1\n",
       "1      ? big hair big boobs bad music and a giant saf...  0\n",
       "2      ? this has to be one of the worst films of the...  0\n",
       "3      ? the scots excel at storytelling the traditio...  1\n",
       "4      ? worst mistake of my life br br i picked this...  0\n",
       "...                                                  ... ..\n",
       "49995  ? the book is better than the film mostly beca...  1\n",
       "49996  ? the largest crowd to ever see a wrestling ev...  1\n",
       "49997  ? i suppose that to say this is an all out ter...  0\n",
       "49998  ? in love 2 is the third movie it seemed that ...  0\n",
       "49999  ? a good ol' boy film is almost required to ha...  0\n",
       "\n",
       "[50000 rows x 2 columns]"
      ]
     },
     "metadata": {},
     "output_type": "display_data"
    }
   ],
   "source": [
    "imdb_data = pd.concat([result, result1], axis=1, ignore_index=True)\n",
    "display(imdb_data)"
   ]
  },
  {
   "cell_type": "code",
   "execution_count": 83,
   "id": "e2edce98-063a-4806-b07e-4b748f8a0097",
   "metadata": {
    "tags": []
   },
   "outputs": [],
   "source": [
    "imdb_data.columns = ['reviews', 'sentiment']"
   ]
  },
  {
   "cell_type": "code",
   "execution_count": 84,
   "id": "329bfabf-7ad6-4e09-82ef-6c08bd8ecf4e",
   "metadata": {
    "tags": []
   },
   "outputs": [
    {
     "data": {
      "text/html": [
       "<div>\n",
       "<style scoped>\n",
       "    .dataframe tbody tr th:only-of-type {\n",
       "        vertical-align: middle;\n",
       "    }\n",
       "\n",
       "    .dataframe tbody tr th {\n",
       "        vertical-align: top;\n",
       "    }\n",
       "\n",
       "    .dataframe thead th {\n",
       "        text-align: right;\n",
       "    }\n",
       "</style>\n",
       "<table border=\"1\" class=\"dataframe\">\n",
       "  <thead>\n",
       "    <tr style=\"text-align: right;\">\n",
       "      <th></th>\n",
       "      <th>reviews</th>\n",
       "      <th>sentiment</th>\n",
       "    </tr>\n",
       "  </thead>\n",
       "  <tbody>\n",
       "    <tr>\n",
       "      <th>0</th>\n",
       "      <td>? this film was just brilliant casting locatio...</td>\n",
       "      <td>1</td>\n",
       "    </tr>\n",
       "    <tr>\n",
       "      <th>1</th>\n",
       "      <td>? big hair big boobs bad music and a giant saf...</td>\n",
       "      <td>0</td>\n",
       "    </tr>\n",
       "    <tr>\n",
       "      <th>2</th>\n",
       "      <td>? this has to be one of the worst films of the...</td>\n",
       "      <td>0</td>\n",
       "    </tr>\n",
       "    <tr>\n",
       "      <th>3</th>\n",
       "      <td>? the scots excel at storytelling the traditio...</td>\n",
       "      <td>1</td>\n",
       "    </tr>\n",
       "    <tr>\n",
       "      <th>4</th>\n",
       "      <td>? worst mistake of my life br br i picked this...</td>\n",
       "      <td>0</td>\n",
       "    </tr>\n",
       "    <tr>\n",
       "      <th>...</th>\n",
       "      <td>...</td>\n",
       "      <td>...</td>\n",
       "    </tr>\n",
       "    <tr>\n",
       "      <th>49995</th>\n",
       "      <td>? the book is better than the film mostly beca...</td>\n",
       "      <td>1</td>\n",
       "    </tr>\n",
       "    <tr>\n",
       "      <th>49996</th>\n",
       "      <td>? the largest crowd to ever see a wrestling ev...</td>\n",
       "      <td>1</td>\n",
       "    </tr>\n",
       "    <tr>\n",
       "      <th>49997</th>\n",
       "      <td>? i suppose that to say this is an all out ter...</td>\n",
       "      <td>0</td>\n",
       "    </tr>\n",
       "    <tr>\n",
       "      <th>49998</th>\n",
       "      <td>? in love 2 is the third movie it seemed that ...</td>\n",
       "      <td>0</td>\n",
       "    </tr>\n",
       "    <tr>\n",
       "      <th>49999</th>\n",
       "      <td>? a good ol' boy film is almost required to ha...</td>\n",
       "      <td>0</td>\n",
       "    </tr>\n",
       "  </tbody>\n",
       "</table>\n",
       "<p>50000 rows × 2 columns</p>\n",
       "</div>"
      ],
      "text/plain": [
       "                                                 reviews  sentiment\n",
       "0      ? this film was just brilliant casting locatio...          1\n",
       "1      ? big hair big boobs bad music and a giant saf...          0\n",
       "2      ? this has to be one of the worst films of the...          0\n",
       "3      ? the scots excel at storytelling the traditio...          1\n",
       "4      ? worst mistake of my life br br i picked this...          0\n",
       "...                                                  ...        ...\n",
       "49995  ? the book is better than the film mostly beca...          1\n",
       "49996  ? the largest crowd to ever see a wrestling ev...          1\n",
       "49997  ? i suppose that to say this is an all out ter...          0\n",
       "49998  ? in love 2 is the third movie it seemed that ...          0\n",
       "49999  ? a good ol' boy film is almost required to ha...          0\n",
       "\n",
       "[50000 rows x 2 columns]"
      ]
     },
     "execution_count": 84,
     "metadata": {},
     "output_type": "execute_result"
    }
   ],
   "source": [
    "imdb_data"
   ]
  },
  {
   "cell_type": "code",
   "execution_count": 85,
   "id": "6a910c8d-449a-445d-ba75-a5e024f8dcc6",
   "metadata": {
    "tags": []
   },
   "outputs": [],
   "source": [
    "# Saving IMDB Data\n",
    "imdb_data.to_csv('imdb_extracted.csv', index=False)"
   ]
  }
 ],
 "metadata": {
  "kernelspec": {
   "display_name": "Python 3 (ipykernel)",
   "language": "python",
   "name": "python3"
  },
  "language_info": {
   "codemirror_mode": {
    "name": "ipython",
    "version": 3
   },
   "file_extension": ".py",
   "mimetype": "text/x-python",
   "name": "python",
   "nbconvert_exporter": "python",
   "pygments_lexer": "ipython3",
   "version": "3.10.9"
  }
 },
 "nbformat": 4,
 "nbformat_minor": 5
}
